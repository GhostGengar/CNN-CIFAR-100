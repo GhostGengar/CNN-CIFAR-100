{
 "cells": [
  {
   "cell_type": "markdown",
   "metadata": {},
   "source": [
    "# Convolutional Neural Network on CIFAR-100 Dataset\n",
    "Author: **Tien Dinh**"
   ]
  },
  {
   "cell_type": "markdown",
   "metadata": {},
   "source": [
    "## Introduction\n",
    "This is a model built using Tensorflow. The model was trained on the CIFAR-100 Dataset for 5000 times. I was able to get around 50% of accuracy, which is pretty reasonable since the data has only 500 images per class."
   ]
  },
  {
   "cell_type": "markdown",
   "metadata": {},
   "source": [
    "### Reference\n",
    "* [Learning Multiple Layers of Features from Tiny Images](https://www.cs.toronto.edu/~kriz/learning-features-2009-TR.pdf), Alex Krizhevsky, 2009."
   ]
  },
  {
   "cell_type": "markdown",
   "metadata": {},
   "source": [
    "**First we are going to get the data and prepare it for training**"
   ]
  },
  {
   "cell_type": "code",
   "execution_count": 1,
   "metadata": {},
   "outputs": [],
   "source": [
    "CIFAR_DIR = 'cifar-100-python/'"
   ]
  },
  {
   "cell_type": "code",
   "execution_count": 2,
   "metadata": {},
   "outputs": [],
   "source": [
    "def unpickle(file):\n",
    "    import pickle\n",
    "    with open(file, 'rb') as fo:\n",
    "        cifar_dict = pickle.load(fo, encoding='bytes')\n",
    "    return cifar_dict"
   ]
  },
  {
   "cell_type": "code",
   "execution_count": 3,
   "metadata": {},
   "outputs": [],
   "source": [
    "dirs = ['meta', 'test', 'train']"
   ]
  },
  {
   "cell_type": "code",
   "execution_count": 4,
   "metadata": {},
   "outputs": [],
   "source": [
    "all_data = [0, 1, 2]"
   ]
  },
  {
   "cell_type": "code",
   "execution_count": 5,
   "metadata": {},
   "outputs": [],
   "source": [
    "for i,direc in zip(all_data,dirs):\n",
    "    all_data[i] = unpickle(CIFAR_DIR+direc)"
   ]
  },
  {
   "cell_type": "code",
   "execution_count": 6,
   "metadata": {},
   "outputs": [],
   "source": [
    "meta_data = all_data[0]\n",
    "test_data = all_data[1]\n",
    "train_data = all_data[2]"
   ]
  },
  {
   "cell_type": "code",
   "execution_count": 7,
   "metadata": {},
   "outputs": [
    {
     "data": {
      "text/plain": [
       "dict_keys([b'fine_label_names', b'coarse_label_names'])"
      ]
     },
     "execution_count": 7,
     "metadata": {},
     "output_type": "execute_result"
    }
   ],
   "source": [
    "meta_data.keys()"
   ]
  },
  {
   "cell_type": "code",
   "execution_count": 8,
   "metadata": {},
   "outputs": [
    {
     "data": {
      "text/plain": [
       "dict_keys([b'batch_label', b'filenames', b'coarse_labels', b'fine_labels', b'data'])"
      ]
     },
     "execution_count": 8,
     "metadata": {},
     "output_type": "execute_result"
    }
   ],
   "source": [
    "test_data.keys()"
   ]
  },
  {
   "cell_type": "markdown",
   "metadata": {},
   "source": [
    "**Using matplotlib to visualize the images**"
   ]
  },
  {
   "cell_type": "code",
   "execution_count": 9,
   "metadata": {},
   "outputs": [],
   "source": [
    "import matplotlib.pyplot as plt\n",
    "import numpy as np\n",
    "%matplotlib inline"
   ]
  },
  {
   "cell_type": "code",
   "execution_count": 10,
   "metadata": {},
   "outputs": [
    {
     "data": {
      "text/plain": [
       "(10000, 3072)"
      ]
     },
     "execution_count": 10,
     "metadata": {},
     "output_type": "execute_result"
    }
   ],
   "source": [
    "test_data[b'data'].shape"
   ]
  },
  {
   "cell_type": "code",
   "execution_count": 11,
   "metadata": {},
   "outputs": [],
   "source": [
    "X = test_data[b'data']"
   ]
  },
  {
   "cell_type": "code",
   "execution_count": 12,
   "metadata": {},
   "outputs": [],
   "source": [
    "X = X.reshape(10000, 3, 32, 32).transpose(0, 2, 3, 1).astype('uint8')"
   ]
  },
  {
   "cell_type": "code",
   "execution_count": 13,
   "metadata": {},
   "outputs": [
    {
     "data": {
      "text/plain": [
       "<matplotlib.image.AxesImage at 0x10edc8e80>"
      ]
     },
     "execution_count": 13,
     "metadata": {},
     "output_type": "execute_result"
    },
    {
     "data": {
      "image/png": "[encoded data removed]",
      "text/plain": [
       "<matplotlib.figure.Figure at 0x1091664e0>"
      ]
     },
     "metadata": {},
     "output_type": "display_data"
    }
   ],
   "source": [
    "plt.imshow(X[1012])"
   ]
  },
  {
   "cell_type": "code",
   "execution_count": 14,
   "metadata": {},
   "outputs": [
    {
     "data": {
      "text/plain": [
       "255"
      ]
     },
     "execution_count": 14,
     "metadata": {},
     "output_type": "execute_result"
    }
   ],
   "source": [
    "X[0].max()"
   ]
  },
  {
   "cell_type": "code",
   "execution_count": 15,
   "metadata": {},
   "outputs": [],
   "source": [
    "def one_hot_encode(vec, vals):\n",
    "    '''\n",
    "    One hot encode the output labels to be numpy arrays of 0s and 1s\n",
    "    '''\n",
    "    n = len(vec)\n",
    "    out = np.zeros((n, vals))\n",
    "    out[range(n), vec] = 1\n",
    "    return out"
   ]
  },
  {
   "cell_type": "markdown",
   "metadata": {},
   "source": [
    "### This is a helper class which is used to grab batches to feed into the network"
   ]
  },
  {
   "cell_type": "code",
   "execution_count": 16,
   "metadata": {},
   "outputs": [],
   "source": [
    "class CifarHelper():\n",
    "    \n",
    "    def __init__(self):\n",
    "        self.i = 0\n",
    "        \n",
    "        self.train_batch = [train_data]\n",
    "        self.test_batch = [test_data]\n",
    "        \n",
    "        self.training_images = None\n",
    "        self.training_labels = None\n",
    "        \n",
    "        self.testing_images = None\n",
    "        self.testing_labels = None\n",
    "        \n",
    "    def set_up_images(self):\n",
    "        \n",
    "        print('Setting Up Training Images and Labels')\n",
    "        \n",
    "        self.training_images = np.vstack([d[b'data'] for d in self.train_batch])\n",
    "        train_len = len(self.training_images)\n",
    "        \n",
    "        self.training_images = self.training_images.reshape(train_len, 3, 32, 32).transpose(0, 2, 3, 1) / 255\n",
    "        self.training_labels = one_hot_encode(np.hstack([d[b'coarse_labels'] for d in self.train_batch]), 20)\n",
    "        \n",
    "        print('Setting Up Testing Images and Labels')\n",
    "        \n",
    "        self.testing_images = np.vstack([d[b'data'] for d in self.test_batch])\n",
    "        test_len = len(self.testing_images)\n",
    "        \n",
    "        self.testing_images = self.testing_images.reshape(test_len, 3, 32, 32).transpose(0, 2, 3, 1) / 255\n",
    "        self.testing_labels = one_hot_encode(np.hstack([d[b'coarse_labels'] for d in self.test_batch]), 20)\n",
    "        \n",
    "    def next_batch(self, batch_size):\n",
    "        x = self.training_images[self.i:self.i + batch_size].reshape(batch_size, 32, 32, 3)\n",
    "        y = self.training_labels[self.i:self.i + batch_size]\n",
    "        self.i = (self.i + batch_size) % len(self.training_images)\n",
    "        return x, y"
   ]
  },
  {
   "cell_type": "code",
   "execution_count": 17,
   "metadata": {},
   "outputs": [
    {
     "name": "stdout",
     "output_type": "stream",
     "text": [
      "Setting Up Training Images and Labels\n",
      "Setting Up Testing Images and Labels\n"
     ]
    }
   ],
   "source": [
    "ch = CifarHelper()\n",
    "ch.set_up_images()"
   ]
  },
  {
   "cell_type": "code",
   "execution_count": 18,
   "metadata": {},
   "outputs": [],
   "source": [
    "import tensorflow as tf"
   ]
  },
  {
   "cell_type": "code",
   "execution_count": 19,
   "metadata": {},
   "outputs": [],
   "source": [
    "x = tf.placeholder(tf.float32, shape=[None,32,32,3])\n",
    "y_true = tf.placeholder(tf.float32, shape=[None,20])"
   ]
  },
  {
   "cell_type": "code",
   "execution_count": 20,
   "metadata": {},
   "outputs": [],
   "source": [
    "hold_prob = tf.placeholder(tf.float32)"
   ]
  },
  {
   "cell_type": "code",
   "execution_count": 21,
   "metadata": {},
   "outputs": [],
   "source": [
    "def init_weights(shape):\n",
    "    init_random_dist = tf.truncated_normal(shape, stddev=0.1)\n",
    "    return tf.Variable(init_random_dist)\n",
    "\n",
    "def init_bias(shape):\n",
    "    init_bias_vals = tf.constant(0.1, shape=shape)\n",
    "    return tf.Variable(init_bias_vals)\n",
    "\n",
    "def conv2d(x, W):\n",
    "    return tf.nn.conv2d(x, W, strides=[1,1,1,1], padding='SAME')\n",
    "\n",
    "def max_pool_2by2(x):\n",
    "    return tf.nn.max_pool(x, ksize=[1,2,2,1], strides=[1,2,2,1], padding='SAME')\n",
    "\n",
    "def convolutional_layer(input_x, shape):\n",
    "    W = init_weights(shape)\n",
    "    b = init_bias([shape[3]])\n",
    "    return tf.nn.relu(conv2d(input_x, W) + b)\n",
    "\n",
    "def normal_full_layer(input_layer, size):\n",
    "    input_size = int(input_layer.get_shape()[1])\n",
    "    W = init_weights([input_size, size])\n",
    "    b = init_bias([size])\n",
    "    return tf.matmul(input_layer, W) + b"
   ]
  },
  {
   "cell_type": "code",
   "execution_count": 22,
   "metadata": {},
   "outputs": [],
   "source": [
    "convo_1 = convolutional_layer(x, shape=[4,4,3,32])\n",
    "convo_1_pooling = max_pool_2by2(convo_1)"
   ]
  },
  {
   "cell_type": "code",
   "execution_count": 23,
   "metadata": {},
   "outputs": [],
   "source": [
    "convo_2 = convolutional_layer(convo_1_pooling, shape=[4,4,32,64])\n",
    "convo_2_pooling = max_pool_2by2(convo_2)"
   ]
  },
  {
   "cell_type": "code",
   "execution_count": 25,
   "metadata": {},
   "outputs": [],
   "source": [
    "convo_2_flat = tf.reshape(convo_2_pooling, [-1, 8*8*64])"
   ]
  },
  {
   "cell_type": "code",
   "execution_count": 26,
   "metadata": {},
   "outputs": [],
   "source": [
    "full_layer_one = tf.nn.relu(normal_full_layer(convo_2_flat, 1024))"
   ]
  },
  {
   "cell_type": "code",
   "execution_count": 27,
   "metadata": {},
   "outputs": [],
   "source": [
    "full_one_dropout = tf.nn.dropout(full_layer_one, keep_prob=hold_prob)"
   ]
  },
  {
   "cell_type": "code",
   "execution_count": 28,
   "metadata": {},
   "outputs": [],
   "source": [
    "y_pred = normal_full_layer(full_one_dropout, 20)"
   ]
  },
  {
   "cell_type": "code",
   "execution_count": 29,
   "metadata": {},
   "outputs": [],
   "source": [
    "cross_entropy = tf.reduce_mean(tf.nn.softmax_cross_entropy_with_logits(labels=y_true,logits=y_pred))"
   ]
  },
  {
   "cell_type": "code",
   "execution_count": 30,
   "metadata": {},
   "outputs": [],
   "source": [
    "optimizer = tf.train.AdamOptimizer(learning_rate=0.001)\n",
    "train = optimizer.minimize(cross_entropy)"
   ]
  },
  {
   "cell_type": "code",
   "execution_count": 31,
   "metadata": {},
   "outputs": [],
   "source": [
    "init = tf.global_variables_initializer()"
   ]
  },
  {
   "cell_type": "code",
   "execution_count": 32,
   "metadata": {},
   "outputs": [
    {
     "name": "stdout",
     "output_type": "stream",
     "text": [
      "On Step 0\n",
      "Accuracy is: \n",
      "0.0609\n",
      "\n",
      "\n",
      "On Step 100\n",
      "Accuracy is: \n",
      "0.2\n",
      "\n",
      "\n",
      "On Step 200\n",
      "Accuracy is: \n",
      "0.2474\n",
      "\n",
      "\n",
      "On Step 300\n",
      "Accuracy is: \n",
      "0.3072\n",
      "\n",
      "\n",
      "On Step 400\n",
      "Accuracy is: \n",
      "0.3118\n",
      "\n",
      "\n",
      "On Step 500\n",
      "Accuracy is: \n",
      "0.3396\n",
      "\n",
      "\n",
      "On Step 600\n",
      "Accuracy is: \n",
      "0.3385\n",
      "\n",
      "\n",
      "On Step 700\n",
      "Accuracy is: \n",
      "0.3497\n",
      "\n",
      "\n",
      "On Step 800\n",
      "Accuracy is: \n",
      "0.3743\n",
      "\n",
      "\n",
      "On Step 900\n",
      "Accuracy is: \n",
      "0.3792\n",
      "\n",
      "\n",
      "On Step 1000\n",
      "Accuracy is: \n",
      "0.3906\n",
      "\n",
      "\n",
      "On Step 1100\n",
      "Accuracy is: \n",
      "0.3887\n",
      "\n",
      "\n",
      "On Step 1200\n",
      "Accuracy is: \n",
      "0.4051\n",
      "\n",
      "\n",
      "On Step 1300\n",
      "Accuracy is: \n",
      "0.416\n",
      "\n",
      "\n",
      "On Step 1400\n",
      "Accuracy is: \n",
      "0.416\n",
      "\n",
      "\n",
      "On Step 1500\n",
      "Accuracy is: \n",
      "0.4257\n",
      "\n",
      "\n",
      "On Step 1600\n",
      "Accuracy is: \n",
      "0.4387\n",
      "\n",
      "\n",
      "On Step 1700\n",
      "Accuracy is: \n",
      "0.4309\n",
      "\n",
      "\n",
      "On Step 1800\n",
      "Accuracy is: \n",
      "0.4422\n",
      "\n",
      "\n",
      "On Step 1900\n",
      "Accuracy is: \n",
      "0.4392\n",
      "\n",
      "\n",
      "On Step 2000\n",
      "Accuracy is: \n",
      "0.4518\n",
      "\n",
      "\n",
      "On Step 2100\n",
      "Accuracy is: \n",
      "0.4585\n",
      "\n",
      "\n",
      "On Step 2200\n",
      "Accuracy is: \n",
      "0.4573\n",
      "\n",
      "\n",
      "On Step 2300\n",
      "Accuracy is: \n",
      "0.4648\n",
      "\n",
      "\n",
      "On Step 2400\n",
      "Accuracy is: \n",
      "0.4633\n",
      "\n",
      "\n",
      "On Step 2500\n",
      "Accuracy is: \n",
      "0.4615\n",
      "\n",
      "\n",
      "On Step 2600\n",
      "Accuracy is: \n",
      "0.4803\n",
      "\n",
      "\n",
      "On Step 2700\n",
      "Accuracy is: \n",
      "0.4721\n",
      "\n",
      "\n",
      "On Step 2800\n",
      "Accuracy is: \n",
      "0.4755\n",
      "\n",
      "\n",
      "On Step 2900\n",
      "Accuracy is: \n",
      "0.467\n",
      "\n",
      "\n",
      "On Step 3000\n",
      "Accuracy is: \n",
      "0.4785\n",
      "\n",
      "\n",
      "On Step 3100\n",
      "Accuracy is: \n",
      "0.4781\n",
      "\n",
      "\n",
      "On Step 3200\n",
      "Accuracy is: \n",
      "0.4768\n",
      "\n",
      "\n",
      "On Step 3300\n",
      "Accuracy is: \n",
      "0.4799\n",
      "\n",
      "\n",
      "On Step 3400\n",
      "Accuracy is: \n",
      "0.4825\n",
      "\n",
      "\n",
      "On Step 3500\n",
      "Accuracy is: \n",
      "0.4852\n",
      "\n",
      "\n",
      "On Step 3600\n",
      "Accuracy is: \n",
      "0.4736\n",
      "\n",
      "\n",
      "On Step 3700\n",
      "Accuracy is: \n",
      "0.4771\n",
      "\n",
      "\n",
      "On Step 3800\n",
      "Accuracy is: \n",
      "0.4793\n",
      "\n",
      "\n",
      "On Step 3900\n",
      "Accuracy is: \n",
      "0.4739\n",
      "\n",
      "\n",
      "On Step 4000\n",
      "Accuracy is: \n",
      "0.4835\n",
      "\n",
      "\n",
      "On Step 4100\n",
      "Accuracy is: \n",
      "0.4984\n",
      "\n",
      "\n",
      "On Step 4200\n",
      "Accuracy is: \n",
      "0.4831\n",
      "\n",
      "\n",
      "On Step 4300\n",
      "Accuracy is: \n",
      "0.4821\n",
      "\n",
      "\n",
      "On Step 4400\n",
      "Accuracy is: \n",
      "0.4839\n",
      "\n",
      "\n",
      "On Step 4500\n",
      "Accuracy is: \n",
      "0.4755\n",
      "\n",
      "\n",
      "On Step 4600\n",
      "Accuracy is: \n",
      "0.4907\n",
      "\n",
      "\n",
      "On Step 4700\n",
      "Accuracy is: \n",
      "0.4777\n",
      "\n",
      "\n",
      "On Step 4800\n",
      "Accuracy is: \n",
      "0.4839\n",
      "\n",
      "\n",
      "On Step 4900\n",
      "Accuracy is: \n",
      "0.4797\n",
      "\n",
      "\n"
     ]
    }
   ],
   "source": [
    "with tf.Session() as sess:\n",
    "    sess.run(init)\n",
    "    for i in range(5000):\n",
    "        x_batch, y_batch = ch.next_batch(100)\n",
    "        sess.run(train, feed_dict={x:x_batch, y_true:y_batch, hold_prob:0.5})\n",
    "        \n",
    "        if i%100 == 0:\n",
    "            print('On Step {}'.format(i))\n",
    "            print('Accuracy is: ')\n",
    "            matches = tf.equal(tf.argmax(y_pred, 1), tf.argmax(y_true, 1))\n",
    "            acc = tf.reduce_mean(tf.cast(matches, tf.float32))\n",
    "            \n",
    "            print(sess.run(acc, feed_dict={x:ch.testing_images, y_true:ch.testing_labels, hold_prob:1.0}))\n",
    "            print('\\n')"
   ]
  },
  {
   "cell_type": "markdown",
   "metadata": {},
   "source": [
    "## Final Accuracy: 47.97%"
   ]
  }
 ],
 "metadata": {
  "kernelspec": {
   "display_name": "Python 3",
   "language": "python",
   "name": "python3"
  },
  "language_info": {
   "codemirror_mode": {
    "name": "ipython",
    "version": 3
   },
   "file_extension": ".py",
   "mimetype": "text/x-python",
   "name": "python",
   "nbconvert_exporter": "python",
   "pygments_lexer": "ipython3",
   "version": "3.5.4"
  }
 },
 "nbformat": 4,
 "nbformat_minor": 2
}
